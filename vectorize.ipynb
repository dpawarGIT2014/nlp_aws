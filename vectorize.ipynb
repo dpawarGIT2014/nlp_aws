{
 "cells": [
  {
   "cell_type": "markdown",
   "metadata": {},
   "source": [
    "### Read datafile as CSV"
   ]
  },
  {
   "cell_type": "code",
   "execution_count": 3,
   "metadata": {},
   "outputs": [],
   "source": [
    "import pandas as pd\n",
    "\n",
    "df = pd.read_csv(\"s3://sagemaker-us-east-1-023375022819/NLP_AWS/NLP_AWS/train/train.csv\", names=[\"Label\", \"Title\", \"Review\"])"
   ]
  },
  {
   "cell_type": "code",
   "execution_count": 4,
   "metadata": {},
   "outputs": [],
   "source": [
    "neg_df = df[df['Label'] == 1]"
   ]
  },
  {
   "cell_type": "code",
   "execution_count": 5,
   "metadata": {},
   "outputs": [
    {
     "data": {
      "text/html": [
       "<div>\n",
       "<style scoped>\n",
       "    .dataframe tbody tr th:only-of-type {\n",
       "        vertical-align: middle;\n",
       "    }\n",
       "\n",
       "    .dataframe tbody tr th {\n",
       "        vertical-align: top;\n",
       "    }\n",
       "\n",
       "    .dataframe thead th {\n",
       "        text-align: right;\n",
       "    }\n",
       "</style>\n",
       "<table border=\"1\" class=\"dataframe\">\n",
       "  <thead>\n",
       "    <tr style=\"text-align: right;\">\n",
       "      <th></th>\n",
       "      <th>Label</th>\n",
       "      <th>Title</th>\n",
       "      <th>Review</th>\n",
       "    </tr>\n",
       "  </thead>\n",
       "  <tbody>\n",
       "    <tr>\n",
       "      <th>6</th>\n",
       "      <td>1</td>\n",
       "      <td>Buyer beware</td>\n",
       "      <td>This is a self-published book, and if you want...</td>\n",
       "    </tr>\n",
       "    <tr>\n",
       "      <th>10</th>\n",
       "      <td>1</td>\n",
       "      <td>The Worst!</td>\n",
       "      <td>A complete waste of time. Typographical errors...</td>\n",
       "    </tr>\n",
       "    <tr>\n",
       "      <th>13</th>\n",
       "      <td>1</td>\n",
       "      <td>Oh please</td>\n",
       "      <td>I guess you have to be a romance novel lover f...</td>\n",
       "    </tr>\n",
       "    <tr>\n",
       "      <th>14</th>\n",
       "      <td>1</td>\n",
       "      <td>Awful beyond belief!</td>\n",
       "      <td>I feel I have to write to keep others from was...</td>\n",
       "    </tr>\n",
       "    <tr>\n",
       "      <th>15</th>\n",
       "      <td>1</td>\n",
       "      <td>Don't try to fool us with fake reviews.</td>\n",
       "      <td>It's glaringly obvious that all of the glowing...</td>\n",
       "    </tr>\n",
       "  </tbody>\n",
       "</table>\n",
       "</div>"
      ],
      "text/plain": [
       "    Label                                    Title  \\\n",
       "6       1                             Buyer beware   \n",
       "10      1                               The Worst!   \n",
       "13      1                                Oh please   \n",
       "14      1                     Awful beyond belief!   \n",
       "15      1  Don't try to fool us with fake reviews.   \n",
       "\n",
       "                                               Review  \n",
       "6   This is a self-published book, and if you want...  \n",
       "10  A complete waste of time. Typographical errors...  \n",
       "13  I guess you have to be a romance novel lover f...  \n",
       "14  I feel I have to write to keep others from was...  \n",
       "15  It's glaringly obvious that all of the glowing...  "
      ]
     },
     "execution_count": 5,
     "metadata": {},
     "output_type": "execute_result"
    }
   ],
   "source": [
    "neg_df.head()"
   ]
  },
  {
   "cell_type": "code",
   "execution_count": 6,
   "metadata": {},
   "outputs": [
    {
     "name": "stdout",
     "output_type": "stream",
     "text": [
      "<class 'pandas.core.frame.DataFrame'>\n",
      "Int64Index: 1800000 entries, 6 to 3599998\n",
      "Data columns (total 3 columns):\n",
      "Label     int64\n",
      "Title     object\n",
      "Review    object\n",
      "dtypes: int64(1), object(2)\n",
      "memory usage: 54.9+ MB\n"
     ]
    }
   ],
   "source": [
    "neg_df.info()"
   ]
  },
  {
   "cell_type": "code",
   "execution_count": 7,
   "metadata": {},
   "outputs": [],
   "source": [
    "extract_df = neg_df.iloc[:,0:10000]['Review']"
   ]
  },
  {
   "cell_type": "code",
   "execution_count": 8,
   "metadata": {},
   "outputs": [
    {
     "data": {
      "text/plain": [
       "6     This is a self-published book, and if you want...\n",
       "10    A complete waste of time. Typographical errors...\n",
       "13    I guess you have to be a romance novel lover f...\n",
       "14    I feel I have to write to keep others from was...\n",
       "15    It's glaringly obvious that all of the glowing...\n",
       "19    sizes are much smaller than what is recomended...\n",
       "20    This model may be ok for sedentary types, but ...\n",
       "22    Rather than scratches and insect droppings, th...\n",
       "25    I have had the charger for more than two years...\n",
       "26    I bought one of these chargers..the instructio...\n",
       "Name: Review, dtype: object"
      ]
     },
     "execution_count": 8,
     "metadata": {},
     "output_type": "execute_result"
    }
   ],
   "source": [
    "extract_df.head(10)"
   ]
  },
  {
   "cell_type": "markdown",
   "metadata": {},
   "source": [
    "### Deploy Neutral Topic Modeling"
   ]
  },
  {
   "cell_type": "code",
   "execution_count": 10,
   "metadata": {},
   "outputs": [],
   "source": [
    "short_df = extract_df.head(10000)"
   ]
  },
  {
   "cell_type": "code",
   "execution_count": 11,
   "metadata": {},
   "outputs": [
    {
     "data": {
      "text/plain": [
       "10000"
      ]
     },
     "execution_count": 11,
     "metadata": {},
     "output_type": "execute_result"
    }
   ],
   "source": [
    "short_df.count()"
   ]
  },
  {
   "cell_type": "code",
   "execution_count": 12,
   "metadata": {},
   "outputs": [
    {
     "name": "stdout",
     "output_type": "stream",
     "text": [
      "Requirement already satisfied: nltk in /home/ec2-user/anaconda3/envs/python3/lib/python3.6/site-packages (3.3)\n",
      "Requirement already satisfied: six in /home/ec2-user/anaconda3/envs/python3/lib/python3.6/site-packages (from nltk) (1.11.0)\n",
      "\u001b[33mYou are using pip version 10.0.1, however version 19.2.3 is available.\n",
      "You should consider upgrading via the 'pip install --upgrade pip' command.\u001b[0m\n",
      "[nltk_data] Downloading package punkt to /home/ec2-user/nltk_data...\n",
      "[nltk_data]   Package punkt is already up-to-date!\n",
      "[nltk_data] Downloading package wordnet to /home/ec2-user/nltk_data...\n",
      "[nltk_data]   Package wordnet is already up-to-date!\n"
     ]
    }
   ],
   "source": [
    "!pip install nltk\n",
    "import nltk\n",
    "nltk.download('punkt')\n",
    "nltk.download('wordnet')\n",
    "from nltk import word_tokenize          \n",
    "from nltk.stem import WordNetLemmatizer \n",
    "import re\n",
    "token_pattern = re.compile(r\"(?u)\\b\\w\\w+\\b\")\n",
    "class LemmaTokenizer(object):\n",
    "    def __init__(self):\n",
    "        self.wnl = WordNetLemmatizer()\n",
    "    def __call__(self, doc):\n",
    "        return [self.wnl.lemmatize(t) for t in word_tokenize(doc) if len(t) >= 2 and re.match(\"[a-z].*\",t) \n",
    "                and re.match(token_pattern, t)]"
   ]
  },
  {
   "cell_type": "code",
   "execution_count": 13,
   "metadata": {},
   "outputs": [
    {
     "name": "stdout",
     "output_type": "stream",
     "text": [
      "[nltk_data] Downloading package punkt to /home/ec2-user/nltk_data...\n",
      "[nltk_data]   Package punkt is already up-to-date!\n"
     ]
    },
    {
     "data": {
      "text/plain": [
       "True"
      ]
     },
     "execution_count": 13,
     "metadata": {},
     "output_type": "execute_result"
    }
   ],
   "source": [
    "from random import shuffle\n",
    "import multiprocessing\n",
    "from multiprocessing import Pool\n",
    "import csv\n",
    "import nltk\n",
    "nltk.download('punkt')"
   ]
  },
  {
   "cell_type": "code",
   "execution_count": 14,
   "metadata": {},
   "outputs": [],
   "source": [
    "import time\n",
    "import numpy as np"
   ]
  },
  {
   "cell_type": "code",
   "execution_count": 15,
   "metadata": {},
   "outputs": [
    {
     "name": "stdout",
     "output_type": "stream",
     "text": [
      "Solving environment: done\n",
      "\n",
      "\n",
      "==> WARNING: A newer version of conda exists. <==\n",
      "  current version: 4.5.12\n",
      "  latest version: 4.7.11\n",
      "\n",
      "Please update conda by running\n",
      "\n",
      "    $ conda update -n base -c defaults conda\n",
      "\n",
      "\n",
      "\n",
      "# All requested packages already installed.\n",
      "\n"
     ]
    }
   ],
   "source": [
    "!conda install -y scipy"
   ]
  },
  {
   "cell_type": "code",
   "execution_count": 16,
   "metadata": {},
   "outputs": [],
   "source": [
    "from sklearn.feature_extraction.text import CountVectorizer"
   ]
  },
  {
   "cell_type": "code",
   "execution_count": 17,
   "metadata": {},
   "outputs": [
    {
     "name": "stdout",
     "output_type": "stream",
     "text": [
      "Tokenizing and counting, this may take a few minutes...\n"
     ]
    }
   ],
   "source": [
    "vocab_size = 2000\n",
    "print('Tokenizing and counting, this may take a few minutes...')\n",
    "start_time = time.time()"
   ]
  },
  {
   "cell_type": "code",
   "execution_count": 18,
   "metadata": {},
   "outputs": [
    {
     "name": "stderr",
     "output_type": "stream",
     "text": [
      "/home/ec2-user/anaconda3/envs/python3/lib/python3.6/site-packages/sklearn/feature_extraction/text.py:300: UserWarning: Your stop_words may be inconsistent with your preprocessing. Tokenizing the stop words generated tokens ['ha', 'le', 'u', 'wa'] not in stop_words.\n",
      "  'stop_words.' % sorted(inconsistent))\n"
     ]
    },
    {
     "name": "stdout",
     "output_type": "stream",
     "text": [
      "vocab size: 2000\n",
      "Done. Time elapsed: 37.62s\n"
     ]
    }
   ],
   "source": [
    "vectorizer = CountVectorizer(input='content', analyzer='word', stop_words='english',\n",
    "                             tokenizer=LemmaTokenizer(), max_features=vocab_size, max_df=0.95, min_df=2)\n",
    "vectors = vectorizer.fit_transform(short_df)\n",
    "vocab_list = vectorizer.get_feature_names()\n",
    "print('vocab size:', len(vocab_list))\n",
    "\n",
    "# random shuffle\n",
    "idx = np.arange(vectors.shape[0])\n",
    "np.random.shuffle(idx)\n",
    "vectors = vectors[idx]\n",
    "\n",
    "print('Done. Time elapsed: {:.2f}s'.format(time.time() - start_time))"
   ]
  },
  {
   "cell_type": "code",
   "execution_count": 20,
   "metadata": {},
   "outputs": [
    {
     "name": "stdout",
     "output_type": "stream",
     "text": [
      "vocab size: ['ability', 'able', 'absolute', 'absolutely', 'ac', 'accent', 'accept', 'acceptable', 'access', 'according', 'account', 'accurate', 'act', 'acting', 'action', 'actor', 'actress', 'actual', 'actually', 'ad', 'adam', 'adaptation', 'adapter', 'add', 'added', 'addition', 'additional', 'address', 'adjust', 'admit', 'adult', 'advance', 'advanced', 'advantage', 'adventure', 'advertised', 'advertising', 'advice', 'advise', 'afraid', 'age', 'ago', 'agree', 'ahead', 'ai', 'aiken', 'air', 'album', 'alien', 'allow', 'allowed', 'alot', 'alternative', 'amazing', 'amazon', 'amazon.com', 'america', 'american', 'amp', 'analysis', 'and/or', 'angel', 'anger', 'angle', 'angry', 'animal', 'anne', 'annoyed', 'annoying', 'answer', 'antenna', 'anybody', 'anymore', 'apart', 'apparent', 'apparently', 'appeal', 'appear', 'appearance', 'appeared', 'appears', 'apple', 'appreciate', 'approach', 'area', 'argument', 'arm', 'arrive', 'arrived', 'art', 'article', 'artist', 'artwork', 'ashamed', 'aside', 'asimov', 'ask', 'asked', 'asking', 'asleep', 'aspect', 'assume', 'attack', 'attempt', 'attempted', 'attempting', 'attention', 'audience', 'audio', 'audrey', 'author', 'available', 'average', 'avoid', 'award', 'aware', 'away', 'awesome', 'awful', 'awkward', 'baby', 'background', 'bad', 'badly', 'bag', 'ball', 'ballad', 'band', 'bar', 'barely', 'base', 'based', 'basic', 'basically', 'basis', 'batman', 'battery', 'battle', 'bay', 'bear', 'beat', 'beautiful', 'beauty', 'bed', 'began', 'begin', 'beginner', 'beginning', 'belief', 'believable', 'believe', 'belt', 'berry', 'best', 'bet', 'better', 'beware', 'bible', 'big', 'bigger', 'biggest', 'bike', 'biography', 'birth', 'birthday', 'bit', 'bizarre', 'black', 'blade', 'blah', 'blame', 'bland', 'blank', 'blood', 'blow', 'blu-ray', 'blue', 'board', 'bob', 'body', 'book', 'boot', 'bootleg', 'bore', 'bored', 'boring', 'born', 'bose', 'bother', 'bottle', 'bought', 'bowl', 'box', 'boy', 'bradbury', 'brain', 'brand', 'break', 'brief', 'bright', 'brilliant', 'bring', 'british', 'broadway', 'brokaw', 'broke', 'broken', 'brother', 'brought', 'brown', 'buck', 'budget', 'bug', 'build', 'building', 'built', 'bunch', 'burn', 'burned', 'burning', 'business', 'button', 'buy', 'buyer', 'buying', 'ca', 'cable', 'cage', 'called', 'camcorder', 'came', 'camera', 'canon', 'car', 'card', 'cardboard', 'care', 'career', 'careful', 'carefully', 'carry', 'cartoon', 'cartridge', 'case', 'cash', 'cast', 'cat', 'catch', 'catholic', 'caught', 'cause', 'caused', 'cave', 'cd', 'cent', 'center', 'century', 'certain', 'certainly', 'cgi', 'chance', 'change', 'changed', 'changing', 'channel', 'chapter', 'character', 'charge', 'charged', 'charger', 'charging', 'charm', 'chart', 'cheap', 'cheaper', 'cheaply', 'check', 'checked', 'cheesy', 'chemical', 'chick', 'child', 'china', 'chip', 'choice', 'choose', 'chose', 'christian', 'christmas', 'church', 'city', 'claim', 'class', 'classic', 'clay', 'clean', 'cleaning', 'clear', 'clearly', 'cliche', 'click', 'climax', 'clip', 'close', 'closed', 'cloth', 'clothes', 'club', 'cobain', 'code', 'coffee', 'cold', 'collection', 'college', 'color', 'come', 'comedy', 'comfortable', 'comic', 'coming', 'comment', 'commentary', 'commercial', 'common', 'community', 'company', 'compare', 'compared', 'comparison', 'compatible', 'compelling', 'compilation', 'complaint', 'complete', 'completely', 'complex', 'complicated', 'computer', 'concept', 'concerned', 'concert', 'conclusion', 'condition', 'confused', 'confusing', 'connect', 'connected', 'connection', 'consider', 'considered', 'considering', 'constant', 'constantly', 'construction', 'consumer', 'contact', 'contacted', 'contain', 'contained', 'contains', 'content', 'continue', 'continued', 'contrived', 'control', 'cook', 'cooker', 'cooking', 'cool', 'copy', 'cord', 'core', 'corner', 'correct', 'correctly', 'cost', 'costume', 'count', 'country', 'couple', 'course', 'cover', 'coverage', 'covered', 'crack', 'crap', 'crappy', 'crash', 'crazy', 'create', 'created', 'creating', 'creative', 'credit', 'crime', 'cross', 'cruiser', 'culture', 'cup', 'current', 'currently', 'customer', 'cut', 'cute', 'cutting', 'damage', 'damn', 'dance', 'dangerous', 'dark', 'date', 'dated', 'daughter', 'david', 'day', 'dead', 'deal', 'death', 'decent', 'decide', 'decided', 'decision', 'deep', 'defective', 'definately', 'definitely', 'degree', 'deliver', 'delivered', 'delivery', 'department', 'depressing', 'depth', 'described', 'description', 'deserve', 'deserves', 'design', 'designed', 'despite', 'detailed', 'developed', 'development', 'device', 'dialog', 'dialogue', 'diane', 'diaper', 'dictionary', 'did', 'didnt', 'die', 'died', 'difference', 'different', 'difficult', 'digital', 'direction', 'directly', 'director', 'dirty', 'disagree', 'disapointed', 'disappointed', 'disappointing', 'disappointment', 'disaster', 'disc', 'discover', 'discovered', 'disjointed', 'disk', 'disney', 'display', 'dissapointed', 'disturbing', 'doctor', 'document', 'documentary', 'doe', 'doesnt', 'dog', 'doing', 'doll', 'dollar', 'dont', 'door', 'double', 'doubt', 'download', 'downloaded', 'dozen', 'dr.', 'drag', 'dragged', 'drama', 'drawing', 'dream', 'dress', 'drink', 'drive', 'drivel', 'driver', 'drop', 'dropped', 'drug', 'dry', 'dude', 'dull', 'dumb', 'dust', 'dvd', 'dvr', 'ear', 'earlier', 'early', 'earned', 'earth', 'easier', 'easily', 'easy', 'eat', 'eating', 'economics', 'edge', 'edited', 'editing', 'edition', 'editor', 'effect', 'effort', 'element', 'elevator', 'email', 'emailed', 'emotion', 'en', 'end', 'ended', 'ending', 'energy', 'england', 'english', 'enjoy', 'enjoyable', 'enjoyed', 'entertaining', 'entertainment', 'entire', 'entirely', 'episode', 'era', 'error', 'especially', 'essentially', 'european', 'event', 'eventually', 'everybody', 'everyday', 'everytime', 'evidence', 'evil', 'exact', 'exactly', 'exam', 'example', 'excellent', 'exception', 'exchange', 'excited', 'excitement', 'exciting', 'excuse', 'exercise', 'exist', 'expect', 'expectation', 'expected', 'expecting', 'expensive', 'experience', 'experienced', 'explain', 'explained', 'explanation', 'explosion', 'extra', 'extreme', 'extremely', 'eye', 'fabric', 'face', 'fact', 'factory', 'fahrenheit', 'fail', 'failed', 'fails', 'failure', 'fair', 'fairly', 'faith', 'fake', 'fall', 'falling', 'false', 'familiar', 'family', 'famous', 'fan', 'fantastic', 'fantasy', 'far', 'fashion', 'fast', 'fat', 'father', 'fault', 'favor', 'favorite', 'fear', 'feature', 'fee', 'feed', 'feeder', 'feeding', 'feel', 'feeling', 'fell', 'felt', 'female', 'fiction', 'field', 'fight', 'fighting', 'figure', 'figured', 'file', 'filled', 'filler', 'film', 'filter', 'final', 'finally', 'finding', 'fine', 'finger', 'finish', 'finished', 'finishing', 'fireman', 'fit', 'fix', 'fixed', 'flat', 'flaw', 'flick', 'flimsy', 'floor', 'flow', 'fly', 'flying', 'focus', 'folk', 'follow', 'followed', 'following', 'food', 'fool', 'foot', 'force', 'forced', 'forever', 'forget', 'forgotten', 'form', 'format', 'formula', 'forth', 'forward', 'foundation', 'fox', 'frame', 'frankly', 'free', 'freeze', 'french', 'frequently', 'fresh', 'friend', 'frustrated', 'frustrating', 'frustration', 'fully', 'fun', 'function', 'funny', 'future', 'g4', 'game', 'gammell', 'garbage', 'gary', 'gave', 'gay', 'gel', 'general', 'generally', 'generation', 'generic', 'genre', 'george', 'german', 'getting', 'ghost', 'giant', 'gift', 'girl', 'girlfriend', 'given', 'giving', 'glad', 'glass', 'glitch', 'glue', 'god', 'going', 'gon', 'gone', 'good', 'got', 'gotten', 'government', 'grab', 'grade', 'grand', 'graphic', 'great', 'greatest', 'greatly', 'green', 'grew', 'gross', 'ground', 'group', 'grow', 'guess', 'guest', 'guide', 'guitar', 'gun', 'guy', 'ha', 'haiku', 'hair', 'half', 'halfway', 'hand', 'handle', 'hang', 'hanging', 'happen', 'happened', 'happening', 'happens', 'happy', 'hard', 'hardly', 'hardware', 'hassle', 'hate', 'hated', 'haunted', 'haunting', 'having', 'hawthorne', 'head', 'headache', 'headphone', 'headset', 'health', 'hear', 'heard', 'hearing', 'heart', 'heat', 'heavy', 'heck', 'held', 'hell', 'help', 'helped', 'helpful', 'hepburn', 'hero', 'heroine', 'hey', 'higgins', 'high', 'higher', 'highly', 'hill', 'historical', 'history', 'hit', 'hold', 'holding', 'hole', 'hollywood', 'home', 'honest', 'honestly', 'hook', 'hope', 'hoped', 'hopefully', 'hoping', 'horrible', 'horribly', 'horror', 'hose', 'hot', 'hounsou', 'hour', 'house', 'hp', 'huge', 'huggies', 'human', 'humor', 'hurt', 'husband', 'hype', 'ibook', 'idea', 'idiot', 'idol', 'ii', 'illustration', 'im', 'image', 'imagination', 'imagine', 'immediately', 'important', 'impossible', 'impressed', 'impression', 'impressive', 'inch', 'include', 'included', 'includes', 'including', 'incorrect', 'incredible', 'incredibly', 'individual', 'industry', 'inferior', 'info', 'information', 'informative', 'initial', 'ink', 'innocent', 'insert', 'inside', 'insight', 'install', 'installation', 'installed', 'instance', 'instead', 'instruction', 'instructor', 'insult', 'intelligent', 'intended', 'interested', 'interesting', 'internet', 'interview', 'introduction', 'invisible', 'involved', 'ipod', 'irritating', 'isnt', 'issue', 'italian', 'item', 'jack', 'jackson', 'jam', 'james', 'japanese', 'java', 'jawbone', 'jazz', 'jesus', 'jet', 'jim', 'job', 'john', 'joke', 'jones', 'journey', 'joyce', 'judge', 'jump', 'junk', 'just', 'justice', 'keanu', 'keel', 'keeping', 'kelly', 'kept', 'key', 'kid', 'kill', 'killed', 'killer', 'killing', 'kind', 'kinda', 'kindle', 'king', 'kit', 'knew', 'know', 'knowledge', 'known', 'kurt', 'la', 'label', 'labor', 'lack', 'lacked', 'lacking', 'lady', 'lame', 'lane', 'language', 'laptop', 'large', 'larger', 'lasted', 'late', 'later', 'latest', 'laugh', 'laughable', 'law', 'lb', 'le', 'lead', 'leading', 'leaf', 'leak', 'leaked', 'leaking', 'learn', 'learned', 'learning', 'leave', 'leaving', 'led', 'left', 'leg', 'legend', 'length', 'lennie', 'lesson', 'let', 'letter', 'level', 'lewis', 'library', 'lie', 'life', 'light', 'like', 'liked', 'likely', 'limit', 'limited', 'line', 'link', 'liquid', 'list', 'listed', 'listen', 'listened', 'listening', 'listing', 'literally', 'literary', 'literature', 'little', 'live', 'lived', 'living', 'load', 'local', 'location', 'lock', 'long', 'longer', 'look', 'looked', 'looking', 'loose', 'lord', 'lose', 'loses', 'loss', 'lost', 'lot', 'loud', 'lousy', 'love', 'loved', 'lover', 'low', 'lower', 'luck', 'lucky', 'lyric', 'mac', 'macally', 'machine', 'mad', 'magazine', 'magic', 'magical', 'magnet', 'mail', 'main', 'mainly', 'major', 'majority', 'make', 'maker', 'making', 'male', 'man', 'managed', 'manages', 'manner', 'manson', 'manual', 'manufactured', 'manufacturer', 'mar', 'mario', 'mark', 'market', 'marketing', 'marquez', 'master', 'masterpiece', 'match', 'material', 'matrix', 'matter', 'mattress', 'max', 'maybe', 'mean', 'meaning', 'meant', 'measure', 'mechanism', 'mediocre', 'medium', 'meet', 'melody', 'member', 'memorable', 'memory', 'men', 'mention', 'mentioned', 'menu', 'mess', 'message', 'metal', 'method', 'michael', 'middle', 'mile', 'million', 'min', 'mind', 'minute', 'misleading', 'miss', 'missed', 'missing', 'mistake', 'mix', 'mixed', 'mode', 'model', 'modern', 'mom', 'moment', 'money', 'monitor', 'monster', 'montag', 'month', 'moral', 'morning', 'mother', 'mothman', 'motion', 'mount', 'mountain', 'mouse', 'mouth', 'moved', 'movement', 'movie', 'moving', 'mp3', 'mr', 'mr.', 'ms.', 'mug', 'multiple', 'murder', 'music', 'musical', 'musician', 'mystery', 'na', 'named', 'narrative', 'narrator', 'natural', 'nature', 'near', 'nearly', 'necessary', 'need', 'needed', 'needle', 'negative', 'nelly', 'network', 'new', 'news', 'nice', 'nicely', 'night', 'nightmare', 'nirvana', 'noise', 'nonsense', 'normal', 'normally', 'note', 'noted', 'notice', 'noticed', 'novel', 'number', 'numerous', 'nut', 'oasis', 'object', 'obvious', 'obviously', 'odd', 'offer', 'offered', 'offering', 'office', 'oh', 'oil', 'ok', 'ok.', 'okay', 'old', 'older', 'online', 'open', 'opened', 'opening', 'opera', 'opinion', 'option', 'order', 'ordered', 'ordering', 'original', 'originally', 'orwell', 'outdated', 'outside', 'overall', 'overly', 'overnight', 'overrated', 'owned', 'pack', 'package', 'packaging', 'pad', 'page', 'paid', 'pain', 'painful', 'paint', 'pair', 'palm', 'pamper', 'pampers', 'paper', 'paperback', 'par', 'paragraph', 'parent', 'particular', 'particularly', 'party', 'pas', 'passage', 'past', 'pathetic', 'paul', 'pay', 'paying', 'pc', 'pee', 'people', 'perfect', 'perfectly', 'performance', 'period', 'person', 'personal', 'personality', 'personally', 'perspective', 'pet', 'peter', 'phone', 'photo', 'phrase', 'pick', 'picked', 'picking', 'picture', 'pictured', 'piece', 'pillow', 'place', 'placed', 'plain', 'plan', 'plane', 'planet', 'plant', 'plastic', 'plate', 'play', 'played', 'player', 'playing', 'pleased', 'plenty', 'plot', 'plug', 'plugged', 'plus', 'pocket', 'point', 'pointless', 'policy', 'political', 'poop', 'poor', 'poorly', 'pop', 'popular', 'port', 'portion', 'position', 'positive', 'possible', 'possibly', 'post', 'pot', 'potential', 'pound', 'power', 'powerbook', 'powerful', 'practice', 'praise', 'predictable', 'prefer', 'premise', 'prepared', 'present', 'presentation', 'presented', 'press', 'pressure', 'pretty', 'previous', 'previously', 'price', 'primarily', 'prime', 'print', 'printed', 'printer', 'printing', 'prior', 'pro', 'probably', 'problem', 'process', 'produce', 'produced', 'producer', 'product', 'production', 'professional', 'professor', 'program', 'project', 'promise', 'proper', 'properly', 'prose', 'protagonist', 'protection', 'provide', 'provided', 'public', 'published', 'publisher', 'pull', 'pulled', 'pump', 'purchase', 'purchased', 'purchasing', 'pure', 'purpose', 'push', 'pushed', 'putting', 'puzzle', 'quality', 'queen', 'question', 'quick', 'quickly', 'quiet', 'quit', 'quite', 'quote', 'rabbit', 'race', 'rachel', 'rack', 'radio', 'rambling', 'ran', 'random', 'range', 'rap', 'rarely', 'rash', 'rate', 'rated', 'rating', 'ray', 'reach', 'read', 'reader', 'reading', 'ready', 'real', 'realistic', 'reality', 'realize', 'realized', 'really', 'reason', 'reasonable', 'reccomend', 'receive', 'received', 'receiving', 'recent', 'recently', 'recieved', 'recipe', 'recognize', 'recognized', 'recomend', 'recommend', 'recommendation', 'recommended', 'record', 'recorded', 'recording', 'red', 'redeeming', 'reef', 'reference', 'refund', 'regarding', 'region', 'regret', 'regular', 'related', 'relationship', 'release', 'released', 'religion', 'religious', 'remake', 'remember', 'reminds', 'remote', 'remove', 'removed', 'rent', 'rented', 'repair', 'repeat', 'repeated', 'repetitive', 'replace', 'replaced', 'replacement', 'report', 'required', 'requires', 'research', 'respect', 'respond', 'response', 'rest', 'result', 'return', 'returned', 'returning', 'review', 'reviewed', 'reviewer', 'rice', 'rich', 'rid', 'ride', 'ridiculous', 'right', 'ring', 'rip', 'ripped', 'risk', 'road', 'robert', 'robocop', 'robot', 'rock', 'rocket', 'rod', 'role', 'roll', 'romance', 'romantic', 'room', 'routine', 'rubber', 'ruben', 'ruin', 'ruined', 'rule', 'run', 'running', 'rushed', 'sad', 'sadly', 'safe', 'said', 'sake', 'sale', 'salt', 'sample', 'sand', 'sandler', 'sansa', 'sat', 'satisfied', 'save', 'saved', 'saving', 'saw', 'say', 'saying', 'scan', 'scanner', 'scare', 'scared', 'scary', 'scene', 'school', 'sci-fi', 'science', 'scott', 'scratch', 'screaming', 'screen', 'screw', 'script', 'sea', 'seam', 'search', 'season', 'seat', 'second', 'secret', 'section', 'seeing', 'seek', 'seen', 'selection', 'self', 'sell', 'seller', 'selling', 'send', 'sending', 'sense', 'sensitive', 'sent', 'sentence', 'separate', 'sequel', 'sequence', 'series', 'seriously', 'service', 'set', 'setting', 'sex', 'sexual', 'sexy', 'shallow', 'shame', 'shape', 'share', 'sharp', 'sheet', 'shelf', 'ship', 'shipped', 'shipping', 'shirt', 'shocked', 'shoe', 'shoot', 'shop', 'short', 'shot', 'showed', 'shower', 'showing', 'shown', 'shut', 'sick', 'sign', 'signal', 'silly', 'similar', 'simple', 'simplistic', 'simply', 'sing', 'singer', 'singing', 'single', 'sings', 'sister', 'sit', 'site', 'sitting', 'situation', 'size', 'skill', 'skin', 'skip', 'sleep', 'sleeping', 'slide', 'slightly', 'slow', 'slowly', 'small', 'smaller', 'smart', 'smell', 'soaked', 'soap', 'social', 'society', 'soft', 'software', 'sold', 'soldier', 'solid', 'solo', 'solution', 'somebody', 'somewhat', 'son', 'song', 'sony', 'soon', 'sorry', 'sort', 'soul', 'sound', 'sounded', 'soundtrack', 'source', 'south', 'space', 'spanish', 'speak', 'speaker', 'speaking', 'special', 'specific', 'speed', 'spend', 'spending', 'spends', 'spent', 'spin', 'spongebob', 'spot', 'spring', 'stage', 'stand', 'standard', 'star', 'start', 'started', 'starting', 'state', 'stated', 'statement', 'station', 'stay', 'steinbeck', 'step', 'stephen', 'steve', 'stick', 'stiff', 'stink', 'stock', 'stone', 'stooge', 'stop', 'stopped', 'store', 'stormare', 'story', 'storyline', 'straight', 'strange', 'strap', 'street', 'strength', 'stretch', 'strip', 'strong', 'strongly', 'structure', 'stuck', 'student', 'studio', 'study', 'stuff', 'stupid', 'style', 'subject', 'subscription', 'substance', 'success', 'suck', 'sucked', 'suddenly', 'suggest', 'suggested', 'suggestion', 'suit', 'summer', 'sung', 'super', 'superficial', 'superior', 'supply', 'support', 'suppose', 'supposed', 'supposedly', 'sure', 'surface', 'surprise', 'surprised', 'suspect', 'suspense', 'swaddlers', 'sweet', 'switch', 'switched', 'symbolism', 'ta', 'tab', 'table', 'taken', 'taking', 'tale', 'talent', 'talented', 'talk', 'talked', 'talking', 'tape', 'target', 'taste', 'te', 'tea', 'teach', 'teacher', 'teaching', 'team', 'tear', 'tech', 'technical', 'technique', 'technology', 'tedious', 'teen', 'teeth', 'television', 'tell', 'telling', 'temperature', 'tent', 'term', 'terrible', 'terribly', 'test', 'text', 'thank', 'thanks', 'thats', 'theater', 'theme', 'theory', 'thing', 'think', 'thinking', 'thomas', 'thoroughly', 'thought', 'thousand', 'threw', 'thriller', 'throw', 'throwing', 'thrown', 'thumb', 'tight', 'tile', 'till', 'time', 'tiny', 'tip', 'tired', 'titanic', 'title', 'tivo', 'today', 'toddler', 'told', 'tom', 'tomb', 'ton', 'tone', 'took', 'tool', 'topic', 'torture', 'total', 'totally', 'touch', 'tough', 'tower', 'town', 'toy', 'track', 'traditional', 'trailer', 'train', 'transfer', 'transformer', 'translation', 'trash', 'travel', 'treat', 'treated', 'treatment', 'tree', 'trick', 'tried', 'trip', 'trite', 'trouble', 'true', 'truly', 'trust', 'truth', 'try', 'trying', 'tube', 'tune', 'turn', 'turned', 'turning', 'tv', 'twice', 'twin', 'twist', 'type', 'typical', 'typo', 'u', 'ugly', 'ultimately', 'unable', 'unbelievable', 'uncomfortable', 'understand', 'understanding', 'understood', 'unfortunately', 'unhappy', 'uninteresting', 'unique', 'unit', 'unless', 'unlike', 'unnecessary', 'unrealistic', 'unusable', 'update', 'upgrade', 'upset', 'usb', 'use', 'used', 'useful', 'useless', 'user', 'using', 'usual', 'usually', 'utterly', 'value', 'van', 'various', 'vendor', 'version', 'vhs', 'video', 'view', 'viewer', 'viewing', 'violence', 'virtually', 'vista', 'visual', 'vocal', 'voice', 'volume', 'wa', 'waist', 'wait', 'waited', 'waiting', 'wake', 'walk', 'walking', 'wall', 'want', 'wanted', 'war', 'warm', 'warmer', 'warned', 'warning', 'warranty', 'wart', 'wash', 'washed', 'washing', 'waste', 'wasted', 'wasting', 'watch', 'watched', 'watching', 'water', 'way', 'weak', 'wear', 'wearing', 'web', 'website', 'week', 'weight', 'weird', 'weisz', 'went', 'wet', 'whats', 'whatsoever', 'wheel', 'white', 'wide', 'widescreen', 'wife', 'william', 'willing', 'win', 'window', 'winner', 'wire', 'wireless', 'wish', 'witch', 'wo', 'woke', 'woman', 'won', 'wonder', 'wonderful', 'wondering', 'wont', 'wood', 'word', 'wore', 'work', 'worked', 'working', 'workout', 'world', 'worn', 'worse', 'worst', 'worth', 'worthless', 'worthwhile', 'worthy', 'wouldnt', 'wow', 'wrist', 'write', 'writer', 'writes', 'writing', 'written', 'wrong', 'wrote', 'wwii', 'xp', 'yeah', 'year', 'yellow', 'yes', 'young', 'younger', 'zero', 'zombie']\n"
     ]
    }
   ],
   "source": [
    "print('vocab size:', vocab_list)"
   ]
  },
  {
   "cell_type": "code",
   "execution_count": 21,
   "metadata": {},
   "outputs": [
    {
     "name": "stdout",
     "output_type": "stream",
     "text": [
      "removed short docs (<25 words)\n",
      "(4463, 2000)\n",
      "<class 'scipy.sparse.csr.csr_matrix'> int64\n",
      "  (0, 1975)\t2\n",
      "  (0, 1922)\t1\n",
      "  (0, 1791)\t1\n",
      "  (0, 1901)\t1\n",
      "  (0, 753)\t1\n",
      "  (0, 1110)\t1\n",
      "  (0, 1536)\t1\n",
      "  (0, 641)\t1\n",
      "  (0, 1516)\t1\n",
      "  (0, 153)\t1\n",
      "  (0, 982)\t1\n",
      "  (0, 1126)\t4\n",
      "  (0, 224)\t1\n",
      "  (0, 548)\t1\n",
      "  (0, 1698)\t1\n",
      "  (0, 185)\t1\n",
      "  (0, 1927)\t1\n",
      "  (0, 634)\t1\n",
      "  (0, 422)\t1\n",
      "  (0, 1603)\t1\n",
      "  (0, 1885)\t2\n"
     ]
    }
   ],
   "source": [
    "threshold = 25\n",
    "vectors = vectors[np.array(vectors.sum(axis=1)>threshold).reshape(-1,)]\n",
    "print('removed short docs (<{} words)'.format(threshold))        \n",
    "print(vectors.shape)\n",
    "\n",
    "print(type(vectors), vectors.dtype)\n",
    "print(vectors[0])"
   ]
  },
  {
   "cell_type": "code",
   "execution_count": 22,
   "metadata": {},
   "outputs": [
    {
     "name": "stdout",
     "output_type": "stream",
     "text": [
      "<class 'scipy.sparse.csr.csr_matrix'> float32\n"
     ]
    }
   ],
   "source": [
    "import scipy.sparse as sparse\n",
    "vectors = sparse.csr_matrix(vectors, dtype=np.float32)\n",
    "print(type(vectors), vectors.dtype)"
   ]
  },
  {
   "cell_type": "code",
   "execution_count": null,
   "metadata": {},
   "outputs": [],
   "source": []
  }
 ],
 "metadata": {
  "kernelspec": {
   "display_name": "conda_python3",
   "language": "python",
   "name": "conda_python3"
  },
  "language_info": {
   "codemirror_mode": {
    "name": "ipython",
    "version": 3
   },
   "file_extension": ".py",
   "mimetype": "text/x-python",
   "name": "python",
   "nbconvert_exporter": "python",
   "pygments_lexer": "ipython3",
   "version": "3.6.5"
  }
 },
 "nbformat": 4,
 "nbformat_minor": 2
}
